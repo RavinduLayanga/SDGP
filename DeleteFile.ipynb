{
 "cells": [
  {
   "cell_type": "code",
   "execution_count": 1,
   "metadata": {},
   "outputs": [],
   "source": [
    "import shutil\n",
    "import os"
   ]
  },
  {
   "cell_type": "code",
   "execution_count": 2,
   "metadata": {},
   "outputs": [],
   "source": [
    "# Define the path to the \"video\" folder\n",
    "video_folder = 'video'\n",
    "\n",
    "# Check if the \"video\" folder exists\n",
    "if os.path.exists(video_folder):\n",
    "    \n",
    "    # Remove the \"frames\" folder and its contents\n",
    "    frames_folder = os.path.join(video_folder, 'frames')\n",
    "    if os.path.exists(frames_folder):\n",
    "        shutil.rmtree(frames_folder)\n",
    "    \n",
    "    # Remove the \"video\" folder and its contents\n",
    "    shutil.rmtree(video_folder)"
   ]
  }
 ],
 "metadata": {
  "kernelspec": {
   "display_name": "base",
   "language": "python",
   "name": "python3"
  },
  "language_info": {
   "codemirror_mode": {
    "name": "ipython",
    "version": 3
   },
   "file_extension": ".py",
   "mimetype": "text/x-python",
   "name": "python",
   "nbconvert_exporter": "python",
   "pygments_lexer": "ipython3",
   "version": "3.9.13"
  },
  "orig_nbformat": 4
 },
 "nbformat": 4,
 "nbformat_minor": 2
}
